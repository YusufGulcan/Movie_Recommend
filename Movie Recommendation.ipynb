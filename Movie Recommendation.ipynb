{
 "cells": [
  {
   "cell_type": "code",
   "execution_count": 87,
   "outputs": [],
   "source": [
    "import pandas as pd\n",
    "import numpy as np\n",
    "import requests\n",
    "from sklearn.feature_extraction.text import TfidfVectorizer         ## To vectorize the movie names\n",
    "import re                                                           ## To clean text\n",
    "from sklearn.metrics.pairwise import cosine_similarity              ## To calculate similarity\n",
    "from ipywidgets import  widgets                                     ## To create interactive interface\n",
    "from IPython.display import display                                   ## To create interactive interface\n",
    "from zipfile import ZipFile"
   ],
   "metadata": {
    "collapsed": false,
    "pycharm": {
     "name": "#%%\n"
    }
   }
  },
  {
   "cell_type": "code",
   "execution_count": 88,
   "outputs": [
    {
     "data": {
      "text/plain": "{'data_0': 'C:\\\\Users\\\\yusuf\\\\GitHub\\\\Movie_Recommend\\\\movies.parquet',\n 'data_1': 'C:\\\\Users\\\\yusuf\\\\GitHub\\\\Movie_Recommend\\\\ratings1.parquet'}"
     },
     "execution_count": 88,
     "metadata": {},
     "output_type": "execute_result"
    }
   ],
   "source": [
    "zip = 'data.zip'\n",
    "zip_data = ZipFile(zip)\n",
    "et = {}\n",
    "with zip_data:\n",
    "    for idx, file in enumerate(zip_data.namelist()):\n",
    "        et['data_' + str(idx)] = zip_data.extract(file)\n",
    "et"
   ],
   "metadata": {
    "collapsed": false,
    "pycharm": {
     "name": "#%%\n"
    }
   }
  },
  {
   "cell_type": "code",
   "execution_count": 89,
   "outputs": [],
   "source": [
    "df = pd.read_parquet(et['data_0'])\n",
    "ratings = pd.read_parquet(et['data_1'])\n",
    "df = df[~df.genres.str.contains('\\(')]"
   ],
   "metadata": {
    "collapsed": false,
    "pycharm": {
     "name": "#%%\n"
    }
   }
  },
  {
   "cell_type": "code",
   "execution_count": 90,
   "outputs": [],
   "source": [
    "def clean_title(x):                                             ## Create a function\n",
    "    return re.sub('[^\\w ]','',x)                               ## This code removes anything except numbers,letters and blanks"
   ],
   "metadata": {
    "collapsed": false,
    "pycharm": {
     "name": "#%%\n"
    }
   }
  },
  {
   "cell_type": "code",
   "execution_count": 91,
   "outputs": [],
   "source": [
    "df['clean_title']=df.title.apply(lambda x:clean_title(x.strip()))                  ## Use the function to clean the title text in each row."
   ],
   "metadata": {
    "collapsed": false,
    "pycharm": {
     "name": "#%%\n"
    }
   }
  },
  {
   "cell_type": "code",
   "execution_count": 92,
   "outputs": [],
   "source": [
    "vec = TfidfVectorizer(ngram_range=(1,2))                      ## Vectorizer converts the test into numpy arrays, it takes single words and word pairs into consideration\n",
    "vec_data=vec.fit_transform(df.clean_title)                    ## Transform the cleaned text column"
   ],
   "metadata": {
    "collapsed": false,
    "pycharm": {
     "name": "#%%\n"
    }
   }
  },
  {
   "cell_type": "code",
   "execution_count": 93,
   "outputs": [],
   "source": [
    "def search(query):\n",
    "    query = clean_title(query)                             ## Clean the variable passed in the function\n",
    "    query = vec.transform([query])                           ## Vectorize the variable   **  Only transform **\n",
    "    similarity = cosine_similarity(query,vec_data).flatten()             ## Calculate the  similarity score\n",
    "    # locs = np.append(np.argpartition(similarity,-10)[-10:],np.argmax(similarity))      ## Find 10 indices with the highest score\n",
    "    locs = np.argsort(similarity)[-10:]   ## Find 10 indices with the highest score\n",
    "    movies = df.iloc[locs][::-1].drop_duplicates()              ## Pass the indices in the movie data frame and create a new data frame.\n",
    "    return movies                                          ## Return the data frame"
   ],
   "metadata": {
    "collapsed": false,
    "pycharm": {
     "name": "#%%\n"
    }
   }
  },
  {
   "cell_type": "code",
   "execution_count": 94,
   "outputs": [
    {
     "data": {
      "text/plain": "       movieId                                              title  \\\n14937    79132                                   Inception (2010)   \n62422   209171                     Women of Devil's Island (1962)   \n19279   100253       Karlsson Brothers (Bröderna Karlsson) (2010)   \n19137    99677                 Dr. Bronner's Magic Soapbox (2006)   \n19136    99675                 Eat Sleep Die (Äta sova dö) (2012)   \n19135    99673  Manuel on the Island of Wonders (Manoel dans l...   \n19134    99671  Fragments of an Alms-Film (Fragmentos de um Fi...   \n19133    99669                                   Aftermath (1994)   \n19132    99667                        Excuse Me for Living (2012)   \n19131    99665                             L'homme qui rit (2012)   \n\n                                                genres  \\\n14937  Action|Crime|Drama|Mystery|Sci-Fi|Thriller|IMAX   \n62422                           Action|Adventure|Drama   \n19279                                     Comedy|Drama   \n19137                                      Documentary   \n19136                                            Drama   \n19135                                            Drama   \n19134                                           Comedy   \n19133                                           Horror   \n19132                                   Comedy|Romance   \n19131                            Drama|Fantasy|Romance   \n\n                                             clean_title  \n14937                                     Inception 2010  \n62422                        Women of Devils Island 1962  \n19279           Karlsson Brothers Bröderna Karlsson 2010  \n19137                     Dr Bronners Magic Soapbox 2006  \n19136                     Eat Sleep Die Äta sova dö 2012  \n19135  Manuel on the Island of Wonders Manoel dans lî...  \n19134  Fragments of an AlmsFilm Fragmentos de um Film...  \n19133                                     Aftermath 1994  \n19132                          Excuse Me for Living 2012  \n19131                                Lhomme qui rit 2012  ",
      "text/html": "<div>\n<style scoped>\n    .dataframe tbody tr th:only-of-type {\n        vertical-align: middle;\n    }\n\n    .dataframe tbody tr th {\n        vertical-align: top;\n    }\n\n    .dataframe thead th {\n        text-align: right;\n    }\n</style>\n<table border=\"1\" class=\"dataframe\">\n  <thead>\n    <tr style=\"text-align: right;\">\n      <th></th>\n      <th>movieId</th>\n      <th>title</th>\n      <th>genres</th>\n      <th>clean_title</th>\n    </tr>\n  </thead>\n  <tbody>\n    <tr>\n      <th>14937</th>\n      <td>79132</td>\n      <td>Inception (2010)</td>\n      <td>Action|Crime|Drama|Mystery|Sci-Fi|Thriller|IMAX</td>\n      <td>Inception 2010</td>\n    </tr>\n    <tr>\n      <th>62422</th>\n      <td>209171</td>\n      <td>Women of Devil's Island (1962)</td>\n      <td>Action|Adventure|Drama</td>\n      <td>Women of Devils Island 1962</td>\n    </tr>\n    <tr>\n      <th>19279</th>\n      <td>100253</td>\n      <td>Karlsson Brothers (Bröderna Karlsson) (2010)</td>\n      <td>Comedy|Drama</td>\n      <td>Karlsson Brothers Bröderna Karlsson 2010</td>\n    </tr>\n    <tr>\n      <th>19137</th>\n      <td>99677</td>\n      <td>Dr. Bronner's Magic Soapbox (2006)</td>\n      <td>Documentary</td>\n      <td>Dr Bronners Magic Soapbox 2006</td>\n    </tr>\n    <tr>\n      <th>19136</th>\n      <td>99675</td>\n      <td>Eat Sleep Die (Äta sova dö) (2012)</td>\n      <td>Drama</td>\n      <td>Eat Sleep Die Äta sova dö 2012</td>\n    </tr>\n    <tr>\n      <th>19135</th>\n      <td>99673</td>\n      <td>Manuel on the Island of Wonders (Manoel dans l...</td>\n      <td>Drama</td>\n      <td>Manuel on the Island of Wonders Manoel dans lî...</td>\n    </tr>\n    <tr>\n      <th>19134</th>\n      <td>99671</td>\n      <td>Fragments of an Alms-Film (Fragmentos de um Fi...</td>\n      <td>Comedy</td>\n      <td>Fragments of an AlmsFilm Fragmentos de um Film...</td>\n    </tr>\n    <tr>\n      <th>19133</th>\n      <td>99669</td>\n      <td>Aftermath (1994)</td>\n      <td>Horror</td>\n      <td>Aftermath 1994</td>\n    </tr>\n    <tr>\n      <th>19132</th>\n      <td>99667</td>\n      <td>Excuse Me for Living (2012)</td>\n      <td>Comedy|Romance</td>\n      <td>Excuse Me for Living 2012</td>\n    </tr>\n    <tr>\n      <th>19131</th>\n      <td>99665</td>\n      <td>L'homme qui rit (2012)</td>\n      <td>Drama|Fantasy|Romance</td>\n      <td>Lhomme qui rit 2012</td>\n    </tr>\n  </tbody>\n</table>\n</div>"
     },
     "execution_count": 94,
     "metadata": {},
     "output_type": "execute_result"
    }
   ],
   "source": [
    "search('Inception')                       ## Try the function"
   ],
   "metadata": {
    "collapsed": false,
    "pycharm": {
     "name": "#%%\n"
    }
   }
  },
  {
   "cell_type": "code",
   "execution_count": 95,
   "outputs": [
    {
     "data": {
      "text/plain": "Text(value='Toy Story', description='Movie Title')",
      "application/vnd.jupyter.widget-view+json": {
       "version_major": 2,
       "version_minor": 0,
       "model_id": "a3957e1f352742a885cc6303395255a0"
      }
     },
     "metadata": {},
     "output_type": "display_data"
    },
    {
     "data": {
      "text/plain": "Output()",
      "application/vnd.jupyter.widget-view+json": {
       "version_major": 2,
       "version_minor": 0,
       "model_id": "a902f1c18bb94681aadbc70c5b577991"
      }
     },
     "metadata": {},
     "output_type": "display_data"
    }
   ],
   "source": [
    "movie_input = widgets.Text(value = 'Toy Story',                                 ## Create a widget for an interactive interface\n",
    "                           description = 'Movie Title',\n",
    "                           disabled = False)\n",
    "movie_list = widgets.Output()\n",
    "\n",
    "def on_type(data):\n",
    "    with movie_list:\n",
    "        movie_list.clear_output()\n",
    "        # display(data)\n",
    "        title = data['new']\n",
    "        if len(title)>3:\n",
    "            display(search(title))\n",
    "\n",
    "\n",
    "movie_input.observe(on_type, names='value')\n",
    "display(movie_input, movie_list)"
   ],
   "metadata": {
    "collapsed": false,
    "pycharm": {
     "name": "#%%\n"
    }
   }
  },
  {
   "cell_type": "code",
   "execution_count": 97,
   "outputs": [],
   "source": [
    "def recommendation(movie_id):\n",
    "    ## Get userIds of people who liked the movie registered with the specified movie id. We can assume those users are similar users. I will refer this group as similar users to make things clear.\n",
    "    similar_users = ratings[(ratings.movieId==movie_id) & (ratings.rating>4)]['userId'].unique()\n",
    "    ## Collect the Ids of the other movies that similar people liked. Assume that similar people generally like similar movies.\n",
    "    recs = ratings[(ratings.userId.isin(similar_users)==True) & (ratings.rating>4)]['movieId']\n",
    "    ## Calculate which movie is liked how many times by similar users and divide it to the total number of the group. It shows us the percentage of people who like the movie\n",
    "    recs = recs.value_counts() / len(similar_users)\n",
    "    ## Filter the movies that are liked by at least %10 of the group.\n",
    "    recs = recs[recs > 0.1]\n",
    "    ## The data that show all users who liked the movies that the at least % 10 of the similar users also liked.\n",
    "    all_=ratings[(ratings.movieId.isin(recs.index)==True) & (ratings.rating>4)]\n",
    "    ## Calculate the ratio of the total population who liked the movies that the similar users liked.\n",
    "    all_recs=all_['movieId'].value_counts()/len(all_['userId'].unique())\n",
    "    ## Concatenate the ratio tables to see the comparison\n",
    "    combined_recs = pd.concat([recs,all_recs],axis=1)\n",
    "    ## Rename columns\n",
    "    combined_recs.columns = ['similar','all']\n",
    "    ## To calculate the score we use the percentages. If a movie is liked by similar people but not popular among the total population, it is assumed to be a better recommendation, because recommendation, in its nature, is valuable when the asker do not know about the movie. So we take the raio between the score among the similar people and the total population; the score is amplified when divided.\n",
    "    combined_recs['score'] = 2*combined_recs['similar'] + combined_recs['all']\n",
    "    ## Sort the data frame by score\n",
    "    combined_recs=combined_recs.sort_values('score',ascending=False)\n",
    "    ## Merge scores and the movies data frames on movieId column, filter 3 columns and the first 10 rows.\n",
    "\n",
    "    results = combined_recs.merge(df,left_index=True,right_on='movieId')[['title','genres','score']]\n",
    "\n",
    "\n",
    "    genr = results.genres.iloc[0].split('|')\n",
    "\n",
    "    frame = results.genres.apply(lambda x: 1 if len([k for k in genr if k in x.split('|')])>0 else 0)\n",
    "\n",
    "    idx = frame[frame==1].index\n",
    "\n",
    "    return results[results.index.isin(idx)].head(20)"
   ],
   "metadata": {
    "collapsed": false,
    "pycharm": {
     "name": "#%%\n"
    }
   }
  },
  {
   "cell_type": "code",
   "execution_count": 98,
   "outputs": [
    {
     "data": {
      "text/plain": "Text(value='Toy Story', description='Movie Title:')",
      "application/vnd.jupyter.widget-view+json": {
       "version_major": 2,
       "version_minor": 0,
       "model_id": "cc210264301040a08141ad0e26e42e58"
      }
     },
     "metadata": {},
     "output_type": "display_data"
    },
    {
     "data": {
      "text/plain": "Output()",
      "application/vnd.jupyter.widget-view+json": {
       "version_major": 2,
       "version_minor": 0,
       "model_id": "b2b2e14417054dc0a55d06a6dd795642"
      }
     },
     "metadata": {},
     "output_type": "display_data"
    }
   ],
   "source": [
    "movie_input_name = widgets.Text(          ## Create a text input widget\n",
    "    value='Toy Story',                         ## initial value\n",
    "    description = 'Movie Title:',\n",
    "    disabled = False)\n",
    "\n",
    "recommendation_list = widgets.Output()\n",
    "def on_type(data):\n",
    "    with recommendation_list:\n",
    "        recommendation_list.clear_output()\n",
    "        title= data['new']\n",
    "        if len(title)>3:\n",
    "            results = search(title)\n",
    "            movie_id = results.iloc[0]['movieId']\n",
    "            display(recommendation(movie_id))\n",
    "\n",
    "movie_input_name.observe(on_type,names='value')\n",
    "display(movie_input_name,recommendation_list)"
   ],
   "metadata": {
    "collapsed": false,
    "pycharm": {
     "name": "#%%\n"
    }
   }
  },
  {
   "cell_type": "code",
   "execution_count": null,
   "outputs": [],
   "source": [],
   "metadata": {
    "collapsed": false,
    "pycharm": {
     "name": "#%%\n"
    }
   }
  }
 ],
 "metadata": {
  "kernelspec": {
   "display_name": "Python 3",
   "language": "python",
   "name": "python3"
  },
  "language_info": {
   "codemirror_mode": {
    "name": "ipython",
    "version": 2
   },
   "file_extension": ".py",
   "mimetype": "text/x-python",
   "name": "python",
   "nbconvert_exporter": "python",
   "pygments_lexer": "ipython2",
   "version": "2.7.6"
  }
 },
 "nbformat": 4,
 "nbformat_minor": 0
}