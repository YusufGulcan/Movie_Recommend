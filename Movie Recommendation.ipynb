{
 "cells": [
  {
   "cell_type": "code",
   "execution_count": 167,
   "outputs": [],
   "source": [
    "import pandas as pd\n",
    "import numpy as np\n",
    "import requests\n",
    "from sklearn.feature_extraction.text import TfidfVectorizer         ## To vectorize the movie names\n",
    "import re                                                           ## To clean text\n",
    "from sklearn.metrics.pairwise import cosine_similarity              ## To calculate similarity\n",
    "from ipywidgets import  widgets                                     ## To create interactive interface\n",
    "from IPython.display import display                                   ## To create interactive interface\n",
    "from zipfile import ZipFile"
   ],
   "metadata": {
    "collapsed": false,
    "pycharm": {
     "name": "#%%\n"
    }
   }
  },
  {
   "cell_type": "code",
   "execution_count": 168,
   "outputs": [
    {
     "data": {
      "text/plain": "{'data_0': 'C:\\\\Users\\\\yusuf\\\\GitHub\\\\Movie_Recommend\\\\movies.parquet',\n 'data_1': 'C:\\\\Users\\\\yusuf\\\\GitHub\\\\Movie_Recommend\\\\ratings1.parquet'}"
     },
     "execution_count": 168,
     "metadata": {},
     "output_type": "execute_result"
    }
   ],
   "source": [
    "zip = 'data.zip'\n",
    "zip_data = ZipFile(zip)\n",
    "et = {}\n",
    "with zip_data:\n",
    "    for idx, file in enumerate(zip_data.namelist()):\n",
    "        et['data_' + str(idx)] = zip_data.extract(file)\n",
    "et"
   ],
   "metadata": {
    "collapsed": false,
    "pycharm": {
     "name": "#%%\n"
    }
   }
  },
  {
   "cell_type": "code",
   "execution_count": 169,
   "outputs": [],
   "source": [
    "df = pd.read_parquet(et['data_0'])\n",
    "ratings = pd.read_parquet(et['data_1'])"
   ],
   "metadata": {
    "collapsed": false,
    "pycharm": {
     "name": "#%%\n"
    }
   }
  },
  {
   "cell_type": "code",
   "execution_count": 170,
   "outputs": [],
   "source": [
    "def clean_title(x):                                             ## Create a function\n",
    "    return re.sub('[^\\w ]','',x)                               ## This code removes anything except numbers,letters and blanks"
   ],
   "metadata": {
    "collapsed": false,
    "pycharm": {
     "name": "#%%\n"
    }
   }
  },
  {
   "cell_type": "code",
   "execution_count": 171,
   "outputs": [],
   "source": [
    "df['clean_title']=df.title.apply(lambda x:clean_title(x.strip()))                  ## Use the function to clean the title text in each row."
   ],
   "metadata": {
    "collapsed": false,
    "pycharm": {
     "name": "#%%\n"
    }
   }
  },
  {
   "cell_type": "code",
   "execution_count": 172,
   "outputs": [],
   "source": [
    "vec = TfidfVectorizer(ngram_range=(1,2))                      ## Vectorizer converts the test into numpy arrays, it takes single words and word pairs into consideration\n",
    "vec_data=vec.fit_transform(df.clean_title)                    ## Transform the cleaned text column"
   ],
   "metadata": {
    "collapsed": false,
    "pycharm": {
     "name": "#%%\n"
    }
   }
  },
  {
   "cell_type": "code",
   "execution_count": 173,
   "outputs": [],
   "source": [
    "def search(query):\n",
    "    query = clean_title(query)                             ## Clean the variable passed in the function\n",
    "    query = vec.transform([query])                           ## Vectorize the variable   **  Only transform **\n",
    "    similarity = cosine_similarity(query,vec_data).flatten()             ## Calculate the  similarity score\n",
    "    # locs = np.append(np.argpartition(similarity,-10)[-10:],np.argmax(similarity))      ## Find 10 indices with the highest score\n",
    "    locs = np.argsort(similarity)[-10:]   ## Find 10 indices with the highest score\n",
    "    movies = df.iloc[locs][::-1].drop_duplicates()              ## Pass the indices in the movie data frame and create a new data frame.\n",
    "    return movies                                          ## Return the data frame"
   ],
   "metadata": {
    "collapsed": false,
    "pycharm": {
     "name": "#%%\n"
    }
   }
  },
  {
   "cell_type": "code",
   "execution_count": 174,
   "outputs": [
    {
     "data": {
      "text/plain": "       movieId                                          title  \\\n60130   202533         Game of Thrones: The Last Watch (2019)   \n59481   200950  Game of Thrones - Conquest & Rebellion (2017)   \n52157   184691                           Game of Death (2017)   \n19334   100457                           Game of Death (2010)   \n4336      4441                           Game of Death (1978)   \n40248   158984                         A Game of Death (1945)   \n53051   186625                            Game of Aces (2016)   \n46545   172665                       The Game of Truth (2013)   \n23517   118324                      Game of Werewolves (2011)   \n49587   179193                 Enter the Game of Death (1978)   \n\n                          genres                                clean_title  \n60130                Documentary        Game of Thrones The Last Watch 2019  \n59481          Animation|Fantasy  Game of Thrones  Conquest  Rebellion 2017  \n52157            Horror|Thriller                         Game of Death 2017  \n19334  Action|Adventure|Thriller                         Game of Death 2010  \n4336                      Action                         Game of Death 1978  \n40248  Action|Adventure|Thriller                       A Game of Death 1945  \n53051       Action|Adventure|War                          Game of Aces 2016  \n46545               Comedy|Drama                     The Game of Truth 2013  \n23517              Comedy|Horror                    Game of Werewolves 2011  \n49587                     Action               Enter the Game of Death 1978  ",
      "text/html": "<div>\n<style scoped>\n    .dataframe tbody tr th:only-of-type {\n        vertical-align: middle;\n    }\n\n    .dataframe tbody tr th {\n        vertical-align: top;\n    }\n\n    .dataframe thead th {\n        text-align: right;\n    }\n</style>\n<table border=\"1\" class=\"dataframe\">\n  <thead>\n    <tr style=\"text-align: right;\">\n      <th></th>\n      <th>movieId</th>\n      <th>title</th>\n      <th>genres</th>\n      <th>clean_title</th>\n    </tr>\n  </thead>\n  <tbody>\n    <tr>\n      <th>60130</th>\n      <td>202533</td>\n      <td>Game of Thrones: The Last Watch (2019)</td>\n      <td>Documentary</td>\n      <td>Game of Thrones The Last Watch 2019</td>\n    </tr>\n    <tr>\n      <th>59481</th>\n      <td>200950</td>\n      <td>Game of Thrones - Conquest &amp; Rebellion (2017)</td>\n      <td>Animation|Fantasy</td>\n      <td>Game of Thrones  Conquest  Rebellion 2017</td>\n    </tr>\n    <tr>\n      <th>52157</th>\n      <td>184691</td>\n      <td>Game of Death (2017)</td>\n      <td>Horror|Thriller</td>\n      <td>Game of Death 2017</td>\n    </tr>\n    <tr>\n      <th>19334</th>\n      <td>100457</td>\n      <td>Game of Death (2010)</td>\n      <td>Action|Adventure|Thriller</td>\n      <td>Game of Death 2010</td>\n    </tr>\n    <tr>\n      <th>4336</th>\n      <td>4441</td>\n      <td>Game of Death (1978)</td>\n      <td>Action</td>\n      <td>Game of Death 1978</td>\n    </tr>\n    <tr>\n      <th>40248</th>\n      <td>158984</td>\n      <td>A Game of Death (1945)</td>\n      <td>Action|Adventure|Thriller</td>\n      <td>A Game of Death 1945</td>\n    </tr>\n    <tr>\n      <th>53051</th>\n      <td>186625</td>\n      <td>Game of Aces (2016)</td>\n      <td>Action|Adventure|War</td>\n      <td>Game of Aces 2016</td>\n    </tr>\n    <tr>\n      <th>46545</th>\n      <td>172665</td>\n      <td>The Game of Truth (2013)</td>\n      <td>Comedy|Drama</td>\n      <td>The Game of Truth 2013</td>\n    </tr>\n    <tr>\n      <th>23517</th>\n      <td>118324</td>\n      <td>Game of Werewolves (2011)</td>\n      <td>Comedy|Horror</td>\n      <td>Game of Werewolves 2011</td>\n    </tr>\n    <tr>\n      <th>49587</th>\n      <td>179193</td>\n      <td>Enter the Game of Death (1978)</td>\n      <td>Action</td>\n      <td>Enter the Game of Death 1978</td>\n    </tr>\n  </tbody>\n</table>\n</div>"
     },
     "execution_count": 174,
     "metadata": {},
     "output_type": "execute_result"
    }
   ],
   "source": [
    "search('Game of Thrones')                       ## Try the function"
   ],
   "metadata": {
    "collapsed": false,
    "pycharm": {
     "name": "#%%\n"
    }
   }
  },
  {
   "cell_type": "code",
   "execution_count": 175,
   "outputs": [
    {
     "data": {
      "text/plain": "Text(value='Toy Story', description='Movie Title')",
      "application/vnd.jupyter.widget-view+json": {
       "version_major": 2,
       "version_minor": 0,
       "model_id": "a72e372721224c23be95c7494c88ccab"
      }
     },
     "metadata": {},
     "output_type": "display_data"
    },
    {
     "data": {
      "text/plain": "Output()",
      "application/vnd.jupyter.widget-view+json": {
       "version_major": 2,
       "version_minor": 0,
       "model_id": "008ef5ab3bde4af49e737a2475976ae0"
      }
     },
     "metadata": {},
     "output_type": "display_data"
    }
   ],
   "source": [
    "movie_input = widgets.Text(value = 'Toy Story',                                 ## Create a widget for an interactive interface\n",
    "                           description = 'Movie Title',\n",
    "                           disabled = False)\n",
    "movie_list = widgets.Output()\n",
    "\n",
    "def on_type(data):\n",
    "    with movie_list:\n",
    "        movie_list.clear_output()\n",
    "        # display(data)\n",
    "        title = data['new']\n",
    "        if len(title)>3:\n",
    "            display(search(title))\n",
    "\n",
    "\n",
    "movie_input.observe(on_type, names='value')\n",
    "display(movie_input, movie_list)"
   ],
   "metadata": {
    "collapsed": false,
    "pycharm": {
     "name": "#%%\n"
    }
   }
  },
  {
   "cell_type": "code",
   "execution_count": 176,
   "outputs": [],
   "source": [
    "def recommendation(movie_id):\n",
    "    ## Get userIds of people who liked the movie registered with the specified movie id. We can assume those users are similar users. I will refer this group as similar users to make things clear.\n",
    "    similar_users = ratings[(ratings.movieId==movie_id) & (ratings.rating>4)]['userId'].unique()\n",
    "    ## Collect the Ids of the other movies that similar people liked. Assume that similar people generally like similar movies.\n",
    "    recs = ratings[(ratings.userId.isin(similar_users)==True) & (ratings.rating>4)]['movieId']\n",
    "    ## Calculate which movie is liked how many times by similar users and divide it to the total number of the group. It shows us the percentage of people who like the movie\n",
    "    recs = recs.value_counts() / len(similar_users)\n",
    "    ## Filter the movies that are liked by at least %10 of the group.\n",
    "    recs = recs[recs > 0.1]\n",
    "    ## The data that show all users who liked the movies that the at least % 10 of the similar users also liked.\n",
    "    all_=ratings[(ratings.movieId.isin(recs.index)==True) & (ratings.rating>4)]\n",
    "    ## Calculate the ratio of the total population who liked the movies that the similar users liked.\n",
    "    all_recs=all_['movieId'].value_counts()/len(all_['userId'].unique())\n",
    "    ## Concatenate the ratio tables to see the comparison\n",
    "    combined_recs = pd.concat([recs,all_recs],axis=1)\n",
    "    ## Rename columns\n",
    "    combined_recs.columns = ['similar','all']\n",
    "    ## To calculate the score we use the percentages. If a movie is liked by similar people but not popular among the total population, it is assumed to be a better recommendation, because recommendation, in its nature, is valuable when the asker do not know about the movie. So we take the raio between the score among the similar people and the total population; the score is amplified when divided.\n",
    "    combined_recs['score'] = combined_recs['similar'] / combined_recs['all']\n",
    "    ## Sort the data frame by score\n",
    "    combined_recs=combined_recs.sort_values('score',ascending=False)\n",
    "    ## Merge scores and the movies data frames on movieId column, filter 3 columns and the first 10 rows.\n",
    "    return combined_recs.merge(df,left_index=True,right_on='movieId').head(10)[['title','genres','score']]"
   ],
   "metadata": {
    "collapsed": false,
    "pycharm": {
     "name": "#%%\n"
    }
   }
  },
  {
   "cell_type": "code",
   "execution_count": 177,
   "outputs": [
    {
     "data": {
      "text/plain": "Text(value='Toy Story', description='Movie Title:')",
      "application/vnd.jupyter.widget-view+json": {
       "version_major": 2,
       "version_minor": 0,
       "model_id": "a9ad6f10aee340298acf1503ad2b973e"
      }
     },
     "metadata": {},
     "output_type": "display_data"
    },
    {
     "data": {
      "text/plain": "Output()",
      "application/vnd.jupyter.widget-view+json": {
       "version_major": 2,
       "version_minor": 0,
       "model_id": "80274f72a4f84a2b8030fac465cd8cd2"
      }
     },
     "metadata": {},
     "output_type": "display_data"
    }
   ],
   "source": [
    "movie_input_name = widgets.Text(          ## Create a text input widget\n",
    "    value='Toy Story',                         ## initial value\n",
    "    description = 'Movie Title:',\n",
    "    disabled = False)\n",
    "\n",
    "recommendation_list = widgets.Output()\n",
    "def on_type(data):\n",
    "    with recommendation_list:\n",
    "        recommendation_list.clear_output()\n",
    "        title= data['new']\n",
    "        if len(title)>3:\n",
    "            results = search(title)\n",
    "            movie_id = results.iloc[0]['movieId']\n",
    "            display(recommendation(movie_id))\n",
    "\n",
    "movie_input_name.observe(on_type,names='value')\n",
    "display(movie_input_name,recommendation_list)"
   ],
   "metadata": {
    "collapsed": false,
    "pycharm": {
     "name": "#%%\n"
    }
   }
  },
  {
   "cell_type": "code",
   "execution_count": 178,
   "outputs": [
    {
     "data": {
      "text/plain": "       movieId                                         title  \\\n14937    79132                              Inception (2010)   \n62422   209171                Women of Devil's Island (1962)   \n20805   107561     Someone Like Him (Einer wie Bruno) (2011)   \n20806   107563              Princess for Christmas, A (2011)   \n20807   107565       Fuck You, Goethe (Fack Ju Göhte) (2013)   \n20808   107573                         Apnea (Apnoia) (2010)   \n20804   107557                               Fun Size (2012)   \n20803   107548                             Ice Quake (2010)    \n20811   107603                      Heiter bis wolkig (2012)   \n20809   107591  Open Up to Me (Kerron sinulle kaiken) (2013)   \n\n                                                genres  \\\n14937  Action|Crime|Drama|Mystery|Sci-Fi|Thriller|IMAX   \n62422                           Action|Adventure|Drama   \n20805                                     Comedy|Drama   \n20806                                  Children|Comedy   \n20807                                           Comedy   \n20808                                            Drama   \n20804                                           Comedy   \n20803                           Action|Sci-Fi|Thriller   \n20811                             Comedy|Drama|Romance   \n20809                                            Drama   \n\n                                    clean_title  \n14937                            Inception 2010  \n62422               Women of Devils Island 1962  \n20805     Someone Like Him Einer wie Bruno 2011  \n20806             Princess for Christmas A 2011  \n20807        Fuck You Goethe Fack Ju Göhte 2013  \n20808                         Apnea Apnoia 2010  \n20804                             Fun Size 2012  \n20803                            Ice Quake 2010  \n20811                    Heiter bis wolkig 2012  \n20809  Open Up to Me Kerron sinulle kaiken 2013  ",
      "text/html": "<div>\n<style scoped>\n    .dataframe tbody tr th:only-of-type {\n        vertical-align: middle;\n    }\n\n    .dataframe tbody tr th {\n        vertical-align: top;\n    }\n\n    .dataframe thead th {\n        text-align: right;\n    }\n</style>\n<table border=\"1\" class=\"dataframe\">\n  <thead>\n    <tr style=\"text-align: right;\">\n      <th></th>\n      <th>movieId</th>\n      <th>title</th>\n      <th>genres</th>\n      <th>clean_title</th>\n    </tr>\n  </thead>\n  <tbody>\n    <tr>\n      <th>14937</th>\n      <td>79132</td>\n      <td>Inception (2010)</td>\n      <td>Action|Crime|Drama|Mystery|Sci-Fi|Thriller|IMAX</td>\n      <td>Inception 2010</td>\n    </tr>\n    <tr>\n      <th>62422</th>\n      <td>209171</td>\n      <td>Women of Devil's Island (1962)</td>\n      <td>Action|Adventure|Drama</td>\n      <td>Women of Devils Island 1962</td>\n    </tr>\n    <tr>\n      <th>20805</th>\n      <td>107561</td>\n      <td>Someone Like Him (Einer wie Bruno) (2011)</td>\n      <td>Comedy|Drama</td>\n      <td>Someone Like Him Einer wie Bruno 2011</td>\n    </tr>\n    <tr>\n      <th>20806</th>\n      <td>107563</td>\n      <td>Princess for Christmas, A (2011)</td>\n      <td>Children|Comedy</td>\n      <td>Princess for Christmas A 2011</td>\n    </tr>\n    <tr>\n      <th>20807</th>\n      <td>107565</td>\n      <td>Fuck You, Goethe (Fack Ju Göhte) (2013)</td>\n      <td>Comedy</td>\n      <td>Fuck You Goethe Fack Ju Göhte 2013</td>\n    </tr>\n    <tr>\n      <th>20808</th>\n      <td>107573</td>\n      <td>Apnea (Apnoia) (2010)</td>\n      <td>Drama</td>\n      <td>Apnea Apnoia 2010</td>\n    </tr>\n    <tr>\n      <th>20804</th>\n      <td>107557</td>\n      <td>Fun Size (2012)</td>\n      <td>Comedy</td>\n      <td>Fun Size 2012</td>\n    </tr>\n    <tr>\n      <th>20803</th>\n      <td>107548</td>\n      <td>Ice Quake (2010)</td>\n      <td>Action|Sci-Fi|Thriller</td>\n      <td>Ice Quake 2010</td>\n    </tr>\n    <tr>\n      <th>20811</th>\n      <td>107603</td>\n      <td>Heiter bis wolkig (2012)</td>\n      <td>Comedy|Drama|Romance</td>\n      <td>Heiter bis wolkig 2012</td>\n    </tr>\n    <tr>\n      <th>20809</th>\n      <td>107591</td>\n      <td>Open Up to Me (Kerron sinulle kaiken) (2013)</td>\n      <td>Drama</td>\n      <td>Open Up to Me Kerron sinulle kaiken 2013</td>\n    </tr>\n  </tbody>\n</table>\n</div>"
     },
     "execution_count": 178,
     "metadata": {},
     "output_type": "execute_result"
    }
   ],
   "source": [
    "q = 'inception'\n",
    "query = clean_title(q)                             ## Clean the variable passed in the function\n",
    "query = vec.transform([query])                           ## Vectorize the variable   **  Only transform **\n",
    "similarity = cosine_similarity(query,vec_data).flatten()             ## Calculate the  similarity score\n",
    "locs = np.append(np.argpartition(similarity,-10)[-10:],np.argmax(similarity))      ## Find 10 indices with the highest score\n",
    "# locs = np.argsort(similarity)[-10:]   ## Find 10 indices with the highest score\n",
    "movies = df.iloc[locs][::-1].drop_duplicates()\n",
    "movies"
   ],
   "metadata": {
    "collapsed": false,
    "pycharm": {
     "name": "#%%\n"
    }
   }
  },
  {
   "cell_type": "code",
   "execution_count": 179,
   "outputs": [
    {
     "data": {
      "text/plain": "array([50, 41, 28])"
     },
     "execution_count": 179,
     "metadata": {},
     "output_type": "execute_result"
    }
   ],
   "source": [
    "b[b.argsort()][-3:][::-1]"
   ],
   "metadata": {
    "collapsed": false,
    "pycharm": {
     "name": "#%%\n"
    }
   }
  },
  {
   "cell_type": "code",
   "execution_count": 180,
   "outputs": [
    {
     "data": {
      "text/plain": "array([10, 23, 28, 41, 50])"
     },
     "execution_count": 180,
     "metadata": {},
     "output_type": "execute_result"
    }
   ],
   "source": [
    "b[np.argsort(b)]"
   ],
   "metadata": {
    "collapsed": false,
    "pycharm": {
     "name": "#%%\n"
    }
   }
  },
  {
   "cell_type": "code",
   "execution_count": 180,
   "outputs": [],
   "source": [],
   "metadata": {
    "collapsed": false,
    "pycharm": {
     "name": "#%%\n"
    }
   }
  }
 ],
 "metadata": {
  "kernelspec": {
   "display_name": "Python 3",
   "language": "python",
   "name": "python3"
  },
  "language_info": {
   "codemirror_mode": {
    "name": "ipython",
    "version": 2
   },
   "file_extension": ".py",
   "mimetype": "text/x-python",
   "name": "python",
   "nbconvert_exporter": "python",
   "pygments_lexer": "ipython2",
   "version": "2.7.6"
  }
 },
 "nbformat": 4,
 "nbformat_minor": 0
}